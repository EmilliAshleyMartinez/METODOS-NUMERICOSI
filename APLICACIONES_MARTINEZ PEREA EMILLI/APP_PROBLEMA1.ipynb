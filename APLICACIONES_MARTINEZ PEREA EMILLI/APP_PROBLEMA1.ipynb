{
  "nbformat": 4,
  "nbformat_minor": 0,
  "metadata": {
    "colab": {
      "provenance": []
    },
    "kernelspec": {
      "name": "python3",
      "display_name": "Python 3"
    },
    "language_info": {
      "name": "python"
    }
  },
  "cells": [
    {
      "cell_type": "markdown",
      "source": [
        "MARTINEZ PEREA EMILLI ASHLEY"
      ],
      "metadata": {
        "id": "vipyJu4_BiRt"
      }
    },
    {
      "cell_type": "markdown",
      "source": [
        "**PROBLEMA 1 INICISO A)**\n",
        "*Si en el instante en que fueron detenidos los sospechosos la temperatura x del cuerpo del jabalí era igual a 31°C y pasada una hora era igual a 29°C,entonces, considerando que en el instante del disparo x = 37°C y a = 21°C, y tomando el instante del arresto como t = 0, determinar el momento del disparo.*"
      ],
      "metadata": {
        "id": "h3rjRa3S7swA"
      }
    },
    {
      "cell_type": "markdown",
      "source": [
        "Reolvemos la ecuación diferencial (1) por variables separables y sustituimos los valores:\n",
        "![image.png](data:image/png;base64,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)\n"
      ],
      "metadata": {
        "id": "KFXnIxUS7t1J"
      }
    },
    {
      "cell_type": "markdown",
      "source": [
        "Asi, entre el instante del disparo y el instante en que fueron detenidos los sospechosos transcurrieron **2 horas y 6 minutos**."
      ],
      "metadata": {
        "id": "4jlyf3PsBHJg"
      }
    },
    {
      "cell_type": "markdown",
      "source": [
        "**PROBLEMA 1 INICISO B)**"
      ],
      "metadata": {
        "id": "Gx3LW7qL4m8M"
      }
    },
    {
      "cell_type": "markdown",
      "source": [
        "Tomando como aproximación inicial k0 = 0,5 y teniendo presente que a=26, b = 1, c = 30, d =— 1 y λ = 1 ( calculamos las aproximaciones sucesivas de la raíz k de la ecuación (\"funcion1\") en el intervalo (0,1), hasta alcanzar la precisión requerida. En la tabla siguiente se muestran los resultados de los cálculos:"
      ],
      "metadata": {
        "id": "ghSqNZYt67H2"
      }
    },
    {
      "cell_type": "code",
      "execution_count": 43,
      "metadata": {
        "id": "9O62rD3P4hS-"
      },
      "outputs": [],
      "source": [
        "from math import *\n",
        "import numpy as np\n",
        "from math import e\n",
        "#MARTINEZ PEREA EMILLI\n",
        "\n",
        "def funcion1(x):\n",
        "    return (30*x)-1+(1-26*x)*(e**x)\n",
        "\n",
        "def derivada1(x):\n",
        "  return 30+(-25-26*x)*(e**x)"
      ]
    },
    {
      "cell_type": "code",
      "source": [
        "# Ingreso datos de entrada para los diferentes métodos a trabajar\n",
        "x0 = 0.5\n",
        "i=0\n",
        "tolerancia = 0.000001\n",
        "\n",
        "error=abs(tolerancia)\n",
        "xi=x0\n",
        "\n",
        "print(\"# n\\t\\t  kn \\t\\t f(kn) \\t\\t f'(kn)\")\n",
        "\n",
        "while (error>=tolerancia):\n",
        "  pn=xi-(funcion1(xi)/derivada1(xi))\n",
        "  error=abs(pn-xi)\n",
        "  print(\"{0} \\t\\t {1:6.6f} \\t {2:6.6f} \\t {3:6.6f}\".format(i, xi,funcion1(xi),derivada1(xi)))\n",
        "  xi=pn\n",
        "  i += 1\n"
      ],
      "metadata": {
        "colab": {
          "base_uri": "https://localhost:8080/"
        },
        "id": "y_bz7-oE6yCO",
        "outputId": "47ae9e74-8081-4e51-be6f-0dd37007e461"
      },
      "execution_count": 60,
      "outputs": [
        {
          "output_type": "stream",
          "name": "stdout",
          "text": [
            "# n\t\t  kn \t\t f(kn) \t\t f'(kn)\n",
            "0 \t\t 0.500000 \t -5.784655 \t -32.651408\n",
            "1 \t\t 0.322836 \t -1.525956 \t -16.118044\n",
            "2 \t\t 0.228162 \t -0.351425 \t -8.859806\n",
            "3 \t\t 0.188497 \t -0.055195 \t -6.103384\n",
            "4 \t\t 0.179454 \t -0.002748 \t -5.497020\n",
            "5 \t\t 0.178954 \t -0.000008 \t -5.463736\n",
            "6 \t\t 0.178952 \t -0.000000 \t -5.463635\n"
          ]
        }
      ]
    },
    {
      "cell_type": "markdown",
      "source": [
        "El último paso del proceso de resolución del problema consiste en sustituir el valor calculado de k=0.178952 en la ecuación (\"funcion1\") y resolverla respecto a t (el instante en que que murió el jabalí). Con el fin de aplicar el método de Newton a la ecuación denotemos su primer miembro con g(t). Haciendo t0 = -1, a = k, 6 = 37k - I, c= 0, d = -30k+1 y λ= 1, obtenemos la tabla"
      ],
      "metadata": {
        "id": "UYLSLJSLqSec"
      }
    },
    {
      "cell_type": "code",
      "source": [
        "def funcion2(x):\n",
        "  k=0.178952\n",
        "  return (((37*k)-1+(k*x))*(e**(k*x)))-(30*k)+1\n",
        "\n",
        "def derivada2(x):\n",
        "  k=0.178952\n",
        "  return ((37*(k**2))+((k**2)*x))*e**(k*x)\n",
        "\n",
        "# Ingreso datos de entrada para los diferentes métodos a trabajar\n",
        "x0 =-1\n",
        "i=0\n",
        "tolerancia = 0.00000001\n",
        "\n",
        "error=tolerancia\n",
        "xi=x0\n",
        "\n",
        "print(\"# n \\t\\t tn \\t\\t g(tn) \\t\\t g'(tn)\")\n",
        "\n",
        "while (error>=tolerancia):\n",
        "  pn=xi-(funcion2(xi)/derivada2(xi))\n",
        "  error=abs(pn-xi)\n",
        "  print(\"{0} \\t\\t {1:6.6f} \\t {2:6.6f} \\t {3:6.6f} \".format(i, xi ,funcion2(xi),derivada2(xi) ))\n",
        "  xi=pn\n",
        "  i += 1"
      ],
      "metadata": {
        "colab": {
          "base_uri": "https://localhost:8080/"
        },
        "id": "K_B92zl7qW1x",
        "outputId": "352bc417-dce6-463e-e862-59b27abf2ba1"
      },
      "execution_count": 58,
      "outputs": [
        {
          "output_type": "stream",
          "name": "stdout",
          "text": [
            "# n \t\t tn \t\t g(tn) \t\t g'(tn)\n",
            "0 \t\t -1.000000 \t 0.181974 \t 0.963957 \n",
            "1 \t\t -1.188778 \t 0.003506 \t 0.927050 \n",
            "2 \t\t -1.192560 \t 0.000001 \t 0.926325 \n",
            "3 \t\t -1.192562 \t 0.000000 \t 0.926324 \n"
          ]
        }
      ]
    },
    {
      "cell_type": "markdown",
      "source": [
        "De los resultados se deduce que el jabalí **murió aproximadamente 1 hora y 12 minutos antes**  de que los guardabosques lo encontraran."
      ],
      "metadata": {
        "id": "YTEQBSCF49U6"
      }
    }
  ]
}