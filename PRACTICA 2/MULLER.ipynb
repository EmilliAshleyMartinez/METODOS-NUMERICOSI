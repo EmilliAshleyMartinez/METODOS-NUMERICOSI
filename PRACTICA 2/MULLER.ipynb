{
  "nbformat": 4,
  "nbformat_minor": 0,
  "metadata": {
    "colab": {
      "provenance": []
    },
    "kernelspec": {
      "name": "python3",
      "display_name": "Python 3"
    },
    "language_info": {
      "name": "python"
    }
  },
  "cells": [
    {
      "cell_type": "code",
      "source": [
        "import cmath as cmt\n",
        "#MARTINEZ PEREA EMILLI\n",
        "def f(x):\n",
        "  return x ** 2 - 2"
      ],
      "metadata": {
        "id": "TXiR2Cz5Qv4m"
      },
      "execution_count": 7,
      "outputs": []
    },
    {
      "cell_type": "code",
      "execution_count": 8,
      "metadata": {
        "colab": {
          "base_uri": "https://localhost:8080/"
        },
        "id": "LpAOoE-5NKpc",
        "outputId": "b4fbf5b5-ca7e-4634-d0de-72cc82457a01"
      },
      "outputs": [
        {
          "output_type": "stream",
          "name": "stdout",
          "text": [
            "Ingresa el valor de  x_0: 1\n",
            "Ingresa el valor de  x_1: 0\n",
            "Ingresa el valor de  x_2: -2\n",
            "Ingresa el valor del error: 20\n",
            "n \t\t\tP_n \t\t\t\t error\n",
            "0\t(-1+1j)\t1.4142135623730951\n"
          ]
        }
      ],
      "source": [
        "F, g, k = [], [], 0\n",
        "#el usuario ingresa los coeficientes del polinimio \n",
        "for i in range(3):\n",
        "  F.append(float(input(f\"Ingresa el valor de  x_{i}: \")))\n",
        "  g.append(f(F[i]))\n",
        "error = float(input(\"Ingresa el valor del error: \"))\n",
        "e = error + 1\n",
        "print(f\"n \\t\\t\\tP_n \\t\\t\\t\\t error\")\n",
        "while e > error:\n",
        "  a = ((g[0] - g[2]) * (F[1] - F[2]) - (g[1] - g[2]) * (F[0] - F[2])) / ((F[1] - F[2]) * (F[0] - F[2]) * (F[0] - F[1]))\n",
        "  b = ((g[1] - g[2]) * (F[0] - F[2]) * 2 - (g[0] - g[2]) * (F[1] - F[2]) * 2) / ((F[1] - F[2]) * (F[0] - F[2]) * (F[0] - F[1]))\n",
        "  c = g[2]\n",
        "  for i in range(2): F[i] = F[i + 1]  \n",
        "  F[2] = F[1] - (2 * c) / (b + cmt.sqrt(b ** 2 - 4 * a * c))\n",
        "  for i in range(3): g[i] = f(F[i])\n",
        "  e = abs(F[2] - F[1])\n",
        "  print(f\"{k}\\t{F[2]}\\t{e}\")\n",
        "  k += 1"
      ]
    }
  ]
}