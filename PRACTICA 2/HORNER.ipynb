{
  "nbformat": 4,
  "nbformat_minor": 0,
  "metadata": {
    "colab": {
      "provenance": []
    },
    "kernelspec": {
      "name": "python3",
      "display_name": "Python 3"
    },
    "language_info": {
      "name": "python"
    }
  },
  "cells": [
    {
      "cell_type": "code",
      "source": [
        "import matplotlib.pyplot as plt\n",
        "import numpy as np\n",
        "import numpy.polynomial.polynomial as pol\n",
        "#MARTINEZ PEREA EMILLI"
      ],
      "metadata": {
        "id": "2oVlOFmcBVjG"
      },
      "execution_count": 39,
      "outputs": []
    },
    {
      "cell_type": "code",
      "source": [
        "# Ingreso datos de entrada para los diferentes métodos a trabajar\n",
        "tolerancia=0.0001\n",
        "i=0\n",
        "nmax=20\n",
        "error=100"
      ],
      "metadata": {
        "id": "sOIoCbvWTLN9"
      },
      "execution_count": 40,
      "outputs": []
    },
    {
      "cell_type": "code",
      "source": [
        "#coeficientes de x^4 + 2x^3 + x^2-x-6\n",
        "a=-6\n",
        "b=-1\n",
        "c=1\n",
        "d=2\n",
        "e=1\n",
        "#Se define la funcion p(x)\n",
        "p = np.array([a,b,c, d,e ])\n",
        "pi=1.5\n",
        "print(f\"n \\t\\t p_n \\t\\t error\")\n",
        "#Ciclo iterativo \n",
        "while error > tolerancia and i <= nmax:\n",
        "  q4=e\n",
        "  q3=d+ q4*(pi)\n",
        "  q2=c + q3*(pi)\n",
        "  q1=b+ q2*pi\n",
        "  #Se determina el Q(x)\n",
        "  q=np.array([q1,q2, q3,  q4 ])\n",
        "\n",
        "  pn = pi - (pol.polyval(pi, p))/(pol.polyval(pi, q))\n",
        "  error = abs(pn - pi)\n",
        "  pi=pn\n",
        "  print(\"{0} \\t\\t {1:6.6f} \\t {2:6.6f}\".format(i, pn,error ))\n",
        "  i += 1"
      ],
      "metadata": {
        "colab": {
          "base_uri": "https://localhost:8080/"
        },
        "id": "i7VKsQHMB-i9",
        "outputId": "f1f4e58b-ada6-4eea-ceb7-a9f28dc89425"
      },
      "execution_count": 41,
      "outputs": [
        {
          "output_type": "stream",
          "name": "stdout",
          "text": [
            "n \t\t p_n \t\t error\n",
            "0 \t\t 1.273707 \t 0.226293\n",
            "1 \t\t 1.216751 \t 0.056956\n",
            "2 \t\t 1.213423 \t 0.003328\n",
            "3 \t\t 1.213412 \t 0.000011\n"
          ]
        }
      ]
    }
  ]
}