{
  "nbformat": 4,
  "nbformat_minor": 0,
  "metadata": {
    "colab": {
      "provenance": []
    },
    "kernelspec": {
      "name": "python3",
      "display_name": "Python 3"
    },
    "language_info": {
      "name": "python"
    }
  },
  "cells": [
    {
      "cell_type": "code",
      "execution_count": 97,
      "metadata": {
        "id": "BsDqClMt9tgI"
      },
      "outputs": [],
      "source": [
        "from math import *\n",
        "import numpy as np\n",
        "#MARTINEZ PEREA EMILLI\n",
        "\n",
        "def funcion(x):\n",
        "    return x**3 + 4*(x**2)-10"
      ]
    },
    {
      "cell_type": "code",
      "source": [
        "# Ingreso datos de entrada para los diferentes métodos a trabajar\n",
        "p0 = 1.2\n",
        "p1 = 1.5\n",
        "i=0\n",
        "j=1\n",
        "tolerancia = 0.0000001 "
      ],
      "metadata": {
        "id": "i93U8fAN9_T9"
      },
      "execution_count": 98,
      "outputs": []
    },
    {
      "cell_type": "code",
      "source": [
        "error=abs(2*tolerancia)\n",
        "xi=p0\n",
        "xj=p1\n",
        "\n",
        "print(\"# iter \\t\\t pn \\t\\t error\")\n",
        "print(\"{0} \\t\\t {1:6.6f} \\t {2:6.6f}\".format(i, xi , error ))\n",
        "i=1\n",
        "while (error>=tolerancia):\n",
        "  pn=xi-(funcion(xi)*(xi-xj)/(funcion(xi)-(funcion(xj))))\n",
        "  error=abs(pn-xj)\n",
        "  print(\"{0} \\t\\t {1:6.6f} \\t {2:6.6f}\".format(i, xj , error ))\n",
        "  xj=pn\n",
        "  i+= 1\n",
        "  j += 1"
      ],
      "metadata": {
        "colab": {
          "base_uri": "https://localhost:8080/"
        },
        "id": "sMRqn4xb-BDu",
        "outputId": "219d29b6-b5b4-4c3f-a4e9-7f10d25220ca"
      },
      "execution_count": 99,
      "outputs": [
        {
          "output_type": "stream",
          "name": "stdout",
          "text": [
            "# iter \t\t pn \t\t error\n",
            "0 \t\t 1.200000 \t 0.000000\n",
            "1 \t\t 1.500000 \t 0.145795\n",
            "2 \t\t 1.354205 \t 0.011979\n",
            "3 \t\t 1.366184 \t 0.001037\n",
            "4 \t\t 1.365148 \t 0.000089\n",
            "5 \t\t 1.365237 \t 0.000008\n",
            "6 \t\t 1.365229 \t 0.000001\n",
            "7 \t\t 1.365230 \t 0.000000\n"
          ]
        }
      ]
    }
  ]
}