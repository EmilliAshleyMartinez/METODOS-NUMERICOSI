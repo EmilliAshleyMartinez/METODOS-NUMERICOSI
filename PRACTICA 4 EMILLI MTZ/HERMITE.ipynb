{
  "nbformat": 4,
  "nbformat_minor": 0,
  "metadata": {
    "colab": {
      "provenance": []
    },
    "kernelspec": {
      "name": "python3",
      "display_name": "Python 3"
    },
    "language_info": {
      "name": "python"
    }
  },
  "cells": [
    {
      "cell_type": "code",
      "execution_count": 416,
      "metadata": {
        "id": "qmtDmI7uyzp6"
      },
      "outputs": [],
      "source": [
        "from math import *\n",
        "import numpy as np\n",
        "from numpy import sum\n",
        "import matplotlib . pyplot as plt\n",
        "from scipy import misc\n",
        "import sympy as sym\n",
        "\n",
        "\n",
        "#MARTINEZ PEREA EMILLI"
      ]
    },
    {
      "cell_type": "code",
      "source": [
        "xa=sym.Symbol ('x')"
      ],
      "metadata": {
        "id": "z1vIlkfzy-QJ"
      },
      "execution_count": 417,
      "outputs": []
    },
    {
      "cell_type": "code",
      "source": [
        "#EJEMPLO 1 PG.101\n",
        "def hermite(x,y,dy,xi):\n",
        "  n=len(x)\n",
        "  resultado=0.0\n",
        "  for i in range (n):\n",
        "    L=1.0\n",
        "    LD=1\n",
        "    Hpi=0.0\n",
        "    Hi=0\n",
        "    for j in range(n):\n",
        "      if i!=j:\n",
        "        L *= (xi-x[j])/(x[i]-x[j])\n",
        "        LD *= (xa-x[j])/(x[i]-x[j])\n",
        "        HD= LD.diff(xa) #DERIVADA DE LAGRANGE\n",
        "        Hpi += (xi-x[i])*pow(L,2) #H GORRITO\n",
        "        Hi += pow(L,2)-2*(11.11*(xi)-16.11)*Hpi #H\n",
        "    resultado += (y[j] * Hi + (dy[j]* Hpi)) #H2N+1\n",
        "  print (\"Polinomio de Lagrange:\",LD)\n",
        "  print (\"Derivada dell polinomio de Lagrange:\",HD)\n",
        "  return resultado\n",
        "\n"
      ],
      "metadata": {
        "id": "qyzgD5SUzAVB"
      },
      "execution_count": 418,
      "outputs": []
    },
    {
      "cell_type": "code",
      "source": [
        "x=[1.3 , 1.6 , 1.9]\n",
        "y=[0.6200860 , 0.4554022 , 0.2818186]\n",
        "dy=[-0.5220232, -0.5698959 , -0.5811571]\n",
        "xi= 1.5\n",
        "\n",
        "inter=hermite(x,y,dy,xi)\n",
        "print(\"\")\n",
        "print(f\"El valor interpolado por HERMITE en x={xi} es y={inter}\")"
      ],
      "metadata": {
        "colab": {
          "base_uri": "https://localhost:8080/"
        },
        "id": "KA4fA5-owI3f",
        "outputId": "632db525-a8c5-475b-a231-be62fb6c3cd2"
      },
      "execution_count": 419,
      "outputs": [
        {
          "output_type": "stream",
          "name": "stdout",
          "text": [
            "Polinomio de Lagrange: (1.66666666666667*x - 2.16666666666667)*(3.33333333333334*x - 5.33333333333334)\n",
            "Derivada dell polinomio de Lagrange: 11.1111111111111*x - 16.1111111111111\n",
            "\n",
            "El valor interpolado por HERMITE en x=1.5 es y=0.5746201480592593\n"
          ]
        }
      ]
    }
  ]
}