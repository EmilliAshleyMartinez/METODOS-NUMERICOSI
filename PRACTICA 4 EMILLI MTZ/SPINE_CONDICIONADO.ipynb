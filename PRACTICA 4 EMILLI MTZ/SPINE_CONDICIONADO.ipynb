{
  "nbformat": 4,
  "nbformat_minor": 0,
  "metadata": {
    "colab": {
      "provenance": []
    },
    "kernelspec": {
      "name": "python3",
      "display_name": "Python 3"
    },
    "language_info": {
      "name": "python"
    }
  },
  "cells": [
    {
      "cell_type": "code",
      "execution_count": 26,
      "metadata": {
        "colab": {
          "base_uri": "https://localhost:8080/"
        },
        "id": "K71UFPjf3bAr",
        "outputId": "fc6608cd-be3d-447c-d1c2-e758289da8d0"
      },
      "outputs": [
        {
          "output_type": "stream",
          "name": "stdout",
          "text": [
            "Segmento 1: [1.0, 0.0, 2.178048205333333, -0.459768205333333] para x en (0,1)\n",
            "Segmento 2: [2.71828, 2.976791794666667, 0.7987435893333339, 0.8951846159999995] para x en (1,2)\n",
            "Segmento 3: [7.389, 7.259832821333333, 3.484297437333333, 1.9523697413333336] para x en (2,3)\n"
          ]
        }
      ],
      "source": [
        "import numpy as np\n",
        "#MARTINEZ PEREA EMILLI ASHLEY\n",
        "\n",
        "\n",
        "def cubico_natural(x, y,dy):\n",
        "    n = len(x)\n",
        "    h = np.zeros(n)\n",
        "    mu = np.zeros(n-1)\n",
        "    l = np.zeros(n)\n",
        "    z = np.zeros(n)\n",
        "    alpha= np.zeros(n)\n",
        "\n",
        "    # Paso 1: Calcular las diferencias\n",
        "    for i in range(n-1):\n",
        "        h[i] = x[i+1]-x[i]\n",
        "\n",
        "    alpha[0]=3*(y[1]-y[0])/h[0] - 3*dy[0]\n",
        "    alpha[3]=3*dy[1] -3*(y[n-1]-y[n-2])/h[n-2]\n",
        "\n",
        "    for i in range (1,n-1):\n",
        "        alpha[i] = 3 * (y[i+1] - y[i]) / h[i] - 3 * (y[i] - y[i-1]) / h[i-1]\n",
        "    # Paso 2: Resolver el sistema de ecuaciones\n",
        "    l[0]=2*h[0]\n",
        "    mu[0]=0.5\n",
        "    z[0]=alpha[0]/l[0]\n",
        "\n",
        "    for i in range(1, n-1):\n",
        "        l[i] = 2 * (x[i+1] - x[i-1]) - (h[i-1] * mu[i-1])\n",
        "        mu[i]=h[i]/l[i]\n",
        "        z[i] = (alpha[i] - h[i-1] * z[i-1]) / l[i]\n",
        "\n",
        "    # Paso 3: Calcular los coeficientes\n",
        "    c = np.zeros(n)\n",
        "    b = np.zeros(n)\n",
        "    d = np.zeros(n)\n",
        "    l[n-1]=h[n-2]*(2-mu[n-2])\n",
        "    z[n-1]=(alpha[n-1]-h[n-2]*z[n-2])/l[n-1]\n",
        "    c[n-1]=z[n-1]\n",
        "\n",
        "    for j in range(2,-1,-1):\n",
        "       c[j] = z[j] - mu[j] * c[j+1]\n",
        "       b[j] = (y[j+1] - y[j]) / h[j] - h[j] * (c[j+1] + 2*c[j]) / 3\n",
        "       d[j] = (c[j+1] - c[j]) / (3 * h[j])\n",
        "\n",
        "\n",
        "    # Paso 4: Devolver los coeficientes del spline cúbico\n",
        "    coeficientes = []\n",
        "    for i in range(n-1):\n",
        "        coef = [y[i], b[i], c[i], d[i]]\n",
        "        coeficientes.append(coef)\n",
        "\n",
        "    return coeficientes\n",
        "\n",
        "# Ejemplo de uso\n",
        "x = np.array([0, 1, 2, 3])\n",
        "y = np.array([1, 2.71828 , 7.3890, 20.0855])\n",
        "dy=np.array([0,20.08553692])\n",
        "coeficientes = cubico_natural(x, y,dy)\n",
        "\n",
        "# Imprimir los coeficientes del spline cúbico\n",
        "for i, coeff in enumerate(coeficientes):\n",
        "    print(f\"Segmento {i + 1}: {coeff} para x en ({x[i]},{x[i+1]})\")\n"
      ]
    }
  ]
}