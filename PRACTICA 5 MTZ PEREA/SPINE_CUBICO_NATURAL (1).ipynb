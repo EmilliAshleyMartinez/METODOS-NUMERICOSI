{
  "nbformat": 4,
  "nbformat_minor": 0,
  "metadata": {
    "colab": {
      "provenance": []
    },
    "kernelspec": {
      "name": "python3",
      "display_name": "Python 3"
    },
    "language_info": {
      "name": "python"
    }
  },
  "cells": [
    {
      "cell_type": "code",
      "source": [
        "import numpy as np\n",
        "#MARTINEZ PEREA EMILLI ASHLEY\n",
        "\n",
        "\n",
        "def cubico_natural(x, y):\n",
        "    n = len(x)\n",
        "    h = np.zeros(n)\n",
        "    mu = np.zeros(n-1)\n",
        "    l = np.zeros(n)\n",
        "    z = np.zeros(n)\n",
        "    alpha= np.zeros(n)\n",
        "\n",
        "    # Paso 1: Calcular las diferencias\n",
        "    for i in range(n-1):\n",
        "        h[i] = x[i+1]-x[i]\n",
        "\n",
        "    for i in range (1,n-1):\n",
        "        alpha[i] = 3 * (y[i+1] - y[i]) / h[i] - 3 * (y[i] - y[i-1]) / h[i-1]\n",
        "    # Paso 2: Resolver el sistema de ecuaciones\n",
        "    l[0]=1\n",
        "    mu[0]=0\n",
        "    z[0]=0\n",
        "\n",
        "    for i in range(1, n-1):\n",
        "        l[i] = 2 * (x[i+1] - x[i-1]) - (h[i-1] * mu[i-1])\n",
        "        mu[i]=h[i]/l[i]\n",
        "        z[i] = (alpha[i] - h[i-1] * z[i-1]) / l[i]\n",
        "\n",
        "    # Paso 3: Calcular los coeficientes\n",
        "    c = np.zeros(n)\n",
        "    b = np.zeros(n)\n",
        "    d = np.zeros(n)\n",
        "    l[3]=1\n",
        "    c[3]=0\n",
        "\n",
        "    for j in range(2,-1,-1):\n",
        "       c[j] = z[j] - mu[j] * c[j+1]\n",
        "       b[j] = (y[j+1] - y[j]) / h[j] - h[j] * (c[j+1] + 2*c[j]) / 3\n",
        "       d[j] = (c[j+1] - c[j]) / (3 * h[j])\n",
        "\n",
        "\n",
        "    # Paso 4: Devolver los coeficientes del spline cúbico\n",
        "    coeficientes = []\n",
        "    for i in range(n-1):\n",
        "        coef = [y[i], b[i], c[i], d[i]]\n",
        "        coeficientes.append(coef)\n",
        "\n",
        "    return coeficientes\n",
        "\n",
        "# Ejemplo de uso\n",
        "x = np.array([0, 1, 2, 3])\n",
        "y = np.array([1, 2.71828 , 7.3890, 20.0855])\n",
        "\n",
        "coeficientes = cubico_natural(x, y)\n",
        "\n",
        "# Imprimir los coeficientes del spline cúbico\n",
        "for i, coeff in enumerate(coeficientes):\n",
        "    print(f\"Segmento {i + 1}: {coeff} para x en ({x[i]},{x[i+1]})\")\n"
      ],
      "metadata": {
        "colab": {
          "base_uri": "https://localhost:8080/"
        },
        "id": "QyVFsOwLQFRA",
        "outputId": "26589e6d-96d2-4f39-a9f8-2e13deb843c2"
      },
      "execution_count": 74,
      "outputs": [
        {
          "output_type": "stream",
          "name": "stdout",
          "text": [
            "Segmento 1: [1.0, 1.4660146666666665, 0.0, 0.2522653333333335] para x en (0,1)\n",
            "Segmento 2: [2.71828, 2.2228106666666667, 0.7567960000000005, 1.691113333333333] para x en (1,2)\n",
            "Segmento 3: [7.389, 8.809742666666667, 5.8301359999999995, -1.9433786666666666] para x en (2,3)\n"
          ]
        }
      ]
    }
  ]
}