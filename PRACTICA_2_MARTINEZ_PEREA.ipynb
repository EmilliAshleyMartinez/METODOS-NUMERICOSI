{
  "nbformat": 4,
  "nbformat_minor": 0,
  "metadata": {
    "colab": {
      "provenance": []
    },
    "kernelspec": {
      "name": "python3",
      "display_name": "Python 3"
    },
    "language_info": {
      "name": "python"
    }
  },
  "cells": [
    {
      "cell_type": "markdown",
      "source": [
        "#**NEWTON RAPSON**"
      ],
      "metadata": {
        "id": "e9hOLSMsV_3H"
      }
    },
    {
      "cell_type": "code",
      "source": [
        "from math import *\n",
        "import numpy as np\n",
        "#MARTINEZ PEREA EMILLI\n",
        "\n",
        "def funcion(x):\n",
        "    return x**3 + 4*(x**2)-10\n",
        "\n",
        "def derivada(x):\n",
        "  return 3*(x**2)+8*x"
      ],
      "metadata": {
        "id": "rjtVN61BWICH"
      },
      "execution_count": 1,
      "outputs": []
    },
    {
      "cell_type": "code",
      "source": [
        "# Ingreso datos de entrada para los diferentes métodos a trabajar\n",
        "x0 = 3/2\n",
        "i=0\n",
        "tolerancia = 0.00000000000001 "
      ],
      "metadata": {
        "id": "wDj3UqNNWLQU"
      },
      "execution_count": 2,
      "outputs": []
    },
    {
      "cell_type": "code",
      "source": [
        "error=abs(2*tolerancia)\n",
        "xi=x0\n",
        "\n",
        "print(\"# iter \\t\\t pn \\t\\t error\")\n",
        "\n",
        "while (error>=tolerancia):\n",
        "  pn=xi-(funcion(xi)/derivada(xi))\n",
        "  error=abs(pn-xi)\n",
        "  print(\"{0} \\t\\t {1:6.6f} \\t {2:6.6f}\".format(i, xi , error ))\n",
        "  xi=pn\n",
        "  i += 1"
      ],
      "metadata": {
        "colab": {
          "base_uri": "https://localhost:8080/"
        },
        "id": "LxrzhmRyWNSx",
        "outputId": "dc2ae517-f56e-4409-bac6-2a08a2c6989c"
      },
      "execution_count": 3,
      "outputs": [
        {
          "output_type": "stream",
          "name": "stdout",
          "text": [
            "# iter \t\t pn \t\t error\n",
            "0 \t\t 1.500000 \t 0.126667\n",
            "1 \t\t 1.373333 \t 0.008071\n",
            "2 \t\t 1.365262 \t 0.000032\n",
            "3 \t\t 1.365230 \t 0.000000\n",
            "4 \t\t 1.365230 \t 0.000000\n"
          ]
        }
      ]
    },
    {
      "cell_type": "markdown",
      "source": [
        "# **SECANTE**"
      ],
      "metadata": {
        "id": "pmccqoqDWTG_"
      }
    },
    {
      "cell_type": "code",
      "source": [
        "from math import *\n",
        "import numpy as np\n",
        "#MARTINEZ PEREA EMILLI\n",
        "\n",
        "def funcion(x):\n",
        "    return x**3 + 4*(x**2)-10"
      ],
      "metadata": {
        "id": "vpOsiDlsWZ6O"
      },
      "execution_count": 4,
      "outputs": []
    },
    {
      "cell_type": "code",
      "source": [
        "# Ingreso datos de entrada para los diferentes métodos a trabajar\n",
        "p0 = 1.2\n",
        "p1 = 1.5\n",
        "i=0\n",
        "j=1\n",
        "tolerancia = 0.0000001 "
      ],
      "metadata": {
        "id": "sCGeD6l5Wiu1"
      },
      "execution_count": 5,
      "outputs": []
    },
    {
      "cell_type": "code",
      "source": [
        "error=abs(2*tolerancia)\n",
        "xi=p0\n",
        "xj=p1\n",
        "\n",
        "print(\"# iter \\t\\t pn \\t\\t error\")\n",
        "print(\"{0} \\t\\t {1:6.6f} \\t {2:6.6f}\".format(i, xi , error ))\n",
        "i=1\n",
        "while (error>=tolerancia):\n",
        "  pn=xi-(funcion(xi)*(xi-xj)/(funcion(xi)-(funcion(xj))))\n",
        "  error=abs(pn-xj)\n",
        "  print(\"{0} \\t\\t {1:6.6f} \\t {2:6.6f}\".format(i, xj , error ))\n",
        "  xj=pn\n",
        "  i+= 1\n",
        "  j += 1"
      ],
      "metadata": {
        "colab": {
          "base_uri": "https://localhost:8080/"
        },
        "id": "Eu8R0K_XWkck",
        "outputId": "9a899c83-842a-4ae4-f9c0-c7c293ec86e1"
      },
      "execution_count": 6,
      "outputs": [
        {
          "output_type": "stream",
          "name": "stdout",
          "text": [
            "# iter \t\t pn \t\t error\n",
            "0 \t\t 1.200000 \t 0.000000\n",
            "1 \t\t 1.500000 \t 0.145795\n",
            "2 \t\t 1.354205 \t 0.011979\n",
            "3 \t\t 1.366184 \t 0.001037\n",
            "4 \t\t 1.365148 \t 0.000089\n",
            "5 \t\t 1.365237 \t 0.000008\n",
            "6 \t\t 1.365229 \t 0.000001\n",
            "7 \t\t 1.365230 \t 0.000000\n"
          ]
        }
      ]
    },
    {
      "cell_type": "markdown",
      "source": [
        "# **HORNER**"
      ],
      "metadata": {
        "id": "R0nL_p3DWnuy"
      }
    },
    {
      "cell_type": "code",
      "source": [
        "import matplotlib.pyplot as plt\n",
        "import numpy as np\n",
        "import numpy.polynomial.polynomial as pol\n",
        "#MARTINEZ PEREA EMILLI"
      ],
      "metadata": {
        "id": "N1qeVT-4WpNf"
      },
      "execution_count": 7,
      "outputs": []
    },
    {
      "cell_type": "code",
      "source": [
        "# Ingreso datos de entrada para los diferentes métodos a trabajar\n",
        "tolerancia=0.0001\n",
        "i=0\n",
        "nmax=20\n",
        "error=100"
      ],
      "metadata": {
        "id": "ha5GnT-8WrEC"
      },
      "execution_count": 8,
      "outputs": []
    },
    {
      "cell_type": "code",
      "source": [
        "#coeficientes de x^4 + 2x^3 + x^2-x-6\n",
        "a=-6\n",
        "b=-1\n",
        "c=1\n",
        "d=2\n",
        "e=1\n",
        "#Se define la funcion p(x)\n",
        "p = np.array([a,b,c, d,e ])\n",
        "pi=1.5\n",
        "print(f\"n \\t\\t p_n \\t\\t error\")\n",
        "#Ciclo iterativo \n",
        "while error > tolerancia and i <= nmax:\n",
        "  q4=e\n",
        "  q3=d+ q4*(pi)\n",
        "  q2=c + q3*(pi)\n",
        "  q1=b+ q2*pi\n",
        "  #Se determina el Q(x)\n",
        "  q=np.array([q1,q2, q3,  q4 ])\n",
        "\n",
        "  pn = pi - (pol.polyval(pi, p))/(pol.polyval(pi, q))\n",
        "  error = abs(pn - pi)\n",
        "  pi=pn\n",
        "  print(\"{0} \\t\\t {1:6.6f} \\t {2:6.6f}\".format(i, pn,error ))\n",
        "  i += 1"
      ],
      "metadata": {
        "colab": {
          "base_uri": "https://localhost:8080/"
        },
        "id": "Dc9GNe2-Ws1V",
        "outputId": "30b3999f-40f8-4bdd-ea6f-23994bbd393b"
      },
      "execution_count": 9,
      "outputs": [
        {
          "output_type": "stream",
          "name": "stdout",
          "text": [
            "n \t\t p_n \t\t error\n",
            "0 \t\t 1.273707 \t 0.226293\n",
            "1 \t\t 1.216751 \t 0.056956\n",
            "2 \t\t 1.213423 \t 0.003328\n",
            "3 \t\t 1.213412 \t 0.000011\n"
          ]
        }
      ]
    },
    {
      "cell_type": "markdown",
      "source": [
        "# **MÜLLER**"
      ],
      "metadata": {
        "id": "gEXPaeS4WvRi"
      }
    },
    {
      "cell_type": "code",
      "source": [
        "import cmath as cmt\n",
        "#MARTINEZ PEREA EMILLI\n",
        "def f(x):\n",
        "  return x ** 2 - 2"
      ],
      "metadata": {
        "id": "lJrkWaBtWxtj"
      },
      "execution_count": 10,
      "outputs": []
    },
    {
      "cell_type": "code",
      "source": [
        "F, g, k = [], [], 0\n",
        "#el usuario ingresa los coeficientes del polinimio \n",
        "for i in range(3):\n",
        "  F.append(float(input(f\"Ingresa el valor de  x_{i}: \")))\n",
        "  g.append(f(F[i]))\n",
        "error = float(input(\"Ingresa el valor del error: \"))\n",
        "e = error + 1\n",
        "print(f\"n \\t\\t\\tP_n \\t\\t\\t\\t error\")\n",
        "while e > error:\n",
        "  a = ((g[0]-g[2])*(F[1]-F[2])-(g[1]-g[2])*(F[0]-F[2])) / ((F[1]-F[2])*(F[0]-F[2])*(F[0]-F[1]))\n",
        "  b = ((g[1]-g[2])*(F[0]-F[2])*2 - (g[0]-g[2])*(F[1]-F[2])*2) / ((F[1]-F[2])*(F[0]-F[2])*(F[0]-F[1]))\n",
        "  c = g[2]\n",
        "  for i in range(2): F[i] = F[i + 1]  \n",
        "  F[2] = F[1] - (2 * c) / (b + cmt.sqrt(b ** 2 - 4 * a * c))\n",
        "  for i in range(3): g[i] = f(F[i])\n",
        "  e = abs(F[2] - F[1])\n",
        "  print(f\"{k}\\t{F[2]}\\t{e}\")\n",
        "  k += 1"
      ],
      "metadata": {
        "colab": {
          "base_uri": "https://localhost:8080/"
        },
        "id": "vB_k--X8WzkN",
        "outputId": "34c9e4b7-ab39-4595-d960-f5a55d9abf43"
      },
      "execution_count": 11,
      "outputs": [
        {
          "output_type": "stream",
          "name": "stdout",
          "text": [
            "Ingresa el valor de  x_0: 1\n",
            "Ingresa el valor de  x_1: 0\n",
            "Ingresa el valor de  x_2: -2\n",
            "Ingresa el valor del error: 20\n",
            "n \t\t\tP_n \t\t\t\t error\n",
            "0\t(-1+1j)\t1.4142135623730951\n"
          ]
        }
      ]
    }
  ]
}